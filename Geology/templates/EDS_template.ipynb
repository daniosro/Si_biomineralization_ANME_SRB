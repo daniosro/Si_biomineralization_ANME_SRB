{
 "cells": [
  {
   "cell_type": "code",
   "execution_count": null,
   "id": "9a308de6-4549-4990-9247-9ef7c5a2f951",
   "metadata": {},
   "outputs": [],
   "source": [
    "# For numerical calculations\n",
    "import numpy as np\n",
    "import pandas as pd\n",
    "import scipy as sp\n",
    "from scipy.integrate import odeint\n",
    "import scipy.optimize \n",
    "from scipy.optimize import leastsq\n",
    "from math import exp\n",
    "from collections import OrderedDict\n",
    "import matplotlib.ticker as ticker\n",
    "import matplotlib.patches as pch\n",
    "from matplotlib.ticker import MaxNLocator\n",
    "\n",
    "# Import plotting features\n",
    "import matplotlib.pyplot as plt\n",
    "import seaborn as sns\n",
    "\n",
    "\n",
    "# Set plot style\n",
    "sns.set(style=\"ticks\")\n",
    "#sns.set_palette(\"spectral\")\n",
    "sns.set_context(\"notebook\")\n",
    "\n",
    "# Magic command to plot inline\n",
    "%matplotlib inline\n",
    "\n",
    "#To graph in SVG (high def)\n",
    "%config InlineBackend.figure_format=\"svg\"\n",
    "\n",
    "# Find home directory for repo\n",
    "repo = git.Repo(\"./\", search_parent_directories=True)\n",
    "homedir = repo.working_dir"
   ]
  },
  {
   "cell_type": "code",
   "execution_count": null,
   "id": "db4d9e8d-eb3f-4541-b19a-877c5f0d2a7f",
   "metadata": {},
   "outputs": [],
   "source": [
    "#Read the file of the EDS spectra\n",
    "df_eds_spectra=pd.read_csv(f'{homedir}/EDS_spectra_1.csv')\n",
    "#Exclude data above 7 keV\n",
    "df_eds_spectra= df_eds_spectra[(df_eds_spectra.energy >= 0) & (df_eds_spectra.energy <= 7)]"
   ]
  },
  {
   "cell_type": "code",
   "execution_count": null,
   "id": "8a890afa-c47a-4daf-a613-4572040f8abe",
   "metadata": {},
   "outputs": [],
   "source": [
    "#Plot aggregates in situ and extracted with an offset\n",
    "#Create column new intensity with an offset of 10000 for extracted aggregates\n",
    "df_eds_spectra.loc[df_eds_spectra['type']=='extracted_aggregate','new_intensity'] = df_eds_spectra['intensity']+10000\n",
    "df_eds_spectra.loc[df_eds_spectra['type']=='aggregate_in_rock','new_intensity'] = df_eds_spectra['intensity']\n",
    "\n",
    "#Remove 11_spectrum_33\n",
    "df_eds_spectra = df_eds_spectra[(df_eds_spectra.id != '11_spectrum_34') \n",
    "                                & (df_eds_spectra.id != '11_spectrum_33') \n",
    "                                & (df_eds_spectra.id != 'al_silicate_aggregate_2')]\n",
    "\n",
    "#Define palette\n",
    "my_palette = 'RdBu'\n",
    "\n",
    "#Create line plots \n",
    "ax = sns.lineplot(x=\"energy\", y=\"new_intensity\", hue = \"id\", lw=1.5, palette=my_palette, data=df_eds_spectra)\n",
    "#Remove top and right spines\n",
    "sns.despine()\n",
    "#Set axes limits and labels\n",
    "ax.ticklabel_format(style='sci', scilimits=(0,0), axis='Y')\n",
    "ax.set_xlabel('Energy (keV)')\n",
    "ax.set_ylabel('Intensity')\n",
    "ax.xaxis.set_major_locator(MaxNLocator(10)) \n",
    "plt.xlim(0)\n",
    "\n",
    "plt.legend(bbox_to_anchor=(1.05, 1), loc=2, borderaxespad=0.)\n",
    "#Save figure\n",
    "plt.savefig('eds_paper.pdf', bbox_inches='tight')"
   ]
  }
 ],
 "metadata": {
  "kernelspec": {
   "display_name": "Python 3",
   "language": "python",
   "name": "python3"
  },
  "language_info": {
   "codemirror_mode": {
    "name": "ipython",
    "version": 3
   },
   "file_extension": ".py",
   "mimetype": "text/x-python",
   "name": "python",
   "nbconvert_exporter": "python",
   "pygments_lexer": "ipython3",
   "version": "3.7.6"
  }
 },
 "nbformat": 4,
 "nbformat_minor": 5
}
